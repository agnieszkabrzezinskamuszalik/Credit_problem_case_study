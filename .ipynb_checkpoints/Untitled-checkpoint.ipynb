{
 "cells": [
  {
   "cell_type": "code",
   "execution_count": 1,
   "metadata": {},
   "outputs": [],
   "source": [
    "import pandas as pd\n",
    "from sklearn.model_selection import train_test_split\n",
    "from sklearn.impute import SimpleImputer\n",
    "from sklearn.preprocessing import OneHotEncoder\n",
    "from sklearn.model_selection import train_test_split\n",
    "from sklearn.preprocessing import StandardScaler\n",
    "from sklearn.pipeline import make_pipeline\n",
    "from sklearn.metrics import accuracy_score\n",
    "from sklearn.linear_model import LogisticRegression\n",
    "from sklearn.tree import DecisionTreeClassifier\n",
    "from sklearn.ensemble import RandomForestClassifier\n",
    "from sklearn.feature_selection import SelectFromModel, SelectKBest, RFE, RFECV, VarianceThreshold\n",
    "from sklearn.compose import ColumnTransformer\n",
    "from sklearn.metrics import precision_score\n",
    "from sklearn.metrics import recall_score\n",
    "from sklearn.metrics import f1_score"
   ]
  },
  {
   "cell_type": "code",
   "execution_count": 2,
   "metadata": {},
   "outputs": [],
   "source": [
    "data = pd.read_csv('Train_nyOWmfK.csv', encoding='latin1')"
   ]
  },
  {
   "cell_type": "code",
   "execution_count": 26,
   "metadata": {},
   "outputs": [],
   "source": [
    "X, X_test, y, y_test = train_test_split(data.drop([\"LoggedIn\", \"Disbursed\"], axis=1),\n",
    "                                          data.Disbursed,\n",
    "                                          test_size=10000,\n",
    "                                          random_state=123)"
   ]
  },
  {
   "cell_type": "code",
   "execution_count": 27,
   "metadata": {},
   "outputs": [],
   "source": [
    "X_test = Preproces(X_test)"
   ]
  },
  {
   "cell_type": "code",
   "execution_count": null,
   "metadata": {},
   "outputs": [],
   "source": [
    "for name in X.columns:\n",
    "    print(name, X[name].isna().sum())"
   ]
  },
  {
   "cell_type": "code",
   "execution_count": 5,
   "metadata": {},
   "outputs": [],
   "source": [
    "def  Preproces(data):\n",
    "    data = data.drop([\"ID\", \"Lead_Creation_Date\", \"Employer_Name\", \"City\", \"Salary_Account\"], axis=1)\n",
    "    data[\"Gender\"].replace({'Female': 0, 'Male':1}, inplace = True)\n",
    "    data[\"Mobile_Verified\"].replace({'Y': 0, 'N':1}, inplace = True)\n",
    "    data[\"Filled_Form\"].replace({'Y': 0, 'N':1}, inplace = True)\n",
    "    data[\"Device_Type\"].replace({'Web-browser': 0, 'Mobile':1}, inplace = True)\n",
    "    data[\"DOB\"] = 2015 -('19' + data[\"DOB\"].str[-2:]).astype('int')\n",
    "    \n",
    "    return data\n"
   ]
  },
  {
   "cell_type": "code",
   "execution_count": 7,
   "metadata": {},
   "outputs": [],
   "source": [
    "def Proces():\n",
    "    num_features = [\"Monthly_Income\", \"DOB\", \"Loan_Amount_Applied\", \"Loan_Tenure_Applied\", \"Existing_EMI\",\n",
    "                   \"Loan_Amount_Submitted\", \"Loan_Tenure_Submitted\", \"Interest_Rate\", \"Processing_Fee\",\n",
    "                   \"EMI_Loan_Submitted\", \"Var5\"]\n",
    "    num_pipeline = make_pipeline(SimpleImputer(strategy = \"constant\", fill_value = 0), \n",
    "                                 StandardScaler())\n",
    "    cat_feauters = [\"Var1\", \"Var2\", \"Var4\", \"Source\"]\n",
    "    cat_pipeline = make_pipeline(SimpleImputer(strategy=\"most_frequent\"),\n",
    "                                OneHotEncoder(handle_unknown=\"ignore\"))\n",
    "    other_feauters = [\"Gender\", \"Mobile_Verified\", \"Filled_Form\", \"Device_Type\"]\n",
    "    other_pipeline = make_pipeline(SimpleImputer(strategy=\"most_frequent\"))\n",
    "\n",
    "    processor = ColumnTransformer(transformers=[\n",
    "        (\"num\", num_pipeline, num_features),\n",
    "        (\"cat\", cat_pipeline, cat_feauters),\n",
    "        (\"cabin\", other_pipeline, other_feauters)\n",
    "    ])\n",
    "    return processor"
   ]
  },
  {
   "cell_type": "code",
   "execution_count": 8,
   "metadata": {},
   "outputs": [],
   "source": [
    "X_train, X_test, y_train, y_test = train_test_split(X, y,\n",
    "                                          test_size=10000)"
   ]
  },
  {
   "cell_type": "code",
   "execution_count": 25,
   "metadata": {},
   "outputs": [
    {
     "name": "stderr",
     "output_type": "stream",
     "text": [
      "C:\\Users\\yukii\\Anaconda3\\lib\\site-packages\\sklearn\\linear_model\\logistic.py:433: FutureWarning: Default solver will be changed to 'lbfgs' in 0.22. Specify a solver to silence this warning.\n",
      "  FutureWarning)\n",
      "C:\\Users\\yukii\\Anaconda3\\lib\\site-packages\\sklearn\\svm\\base.py:922: ConvergenceWarning: Liblinear failed to converge, increase the number of iterations.\n",
      "  \"the number of iterations.\", ConvergenceWarning)\n"
     ]
    },
    {
     "name": "stdout",
     "output_type": "stream",
     "text": [
      "0.05930274350065892\n",
      "0.5210526315789473\n",
      "0.10648596321393998\n",
      "0.0702576112412178\n",
      "0.5294117647058824\n",
      "0.124052377670572\n"
     ]
    }
   ],
   "source": [
    "classification_process = make_pipeline(Proces(),\n",
    "                                       SelectFromModel(RandomForestClassifier(15), 0.0001),\n",
    "                                       LogisticRegression(penalty =\"l1\", class_weight=\"balanced\"))\n",
    "classification_process.fit(X_train, y_train)\n",
    "classification_process.predict(X_test)\n",
    "print(precision_score(y_test, classification_process.predict_proba(X_test)[:,1]>0.7))\n",
    "print(recall_score(y_test, classification_process.predict_proba(X_test)[:,1]>0.7))\n",
    "print(f1_score(y_test, classification_process.predict_proba(X_test)[:,1]>0.7))"
   ]
  },
  {
   "cell_type": "code",
   "execution_count": 29,
   "metadata": {},
   "outputs": [
    {
     "name": "stdout",
     "output_type": "stream",
     "text": [
      "0.0649452269170579\n",
      "0.5424836601307189\n"
     ]
    }
   ],
   "source": [
    "classification_process.predict(X_test)\n",
    "print(precision_score(y_test, classification_process.predict_proba(X_test)[:,1]>0.7))\n",
    "print(recall_score(y_test, classification_process.predict_proba(X_test)[:,1]>0.7))\n",
    "prediction = (f1_score(y_test, classification_process.predict_proba(X_test)[:,1]>0.7))"
   ]
  },
  {
   "cell_type": "code",
   "execution_count": 30,
   "metadata": {},
   "outputs": [],
   "source": [
    "def zysk(y_true, y_pred):\n",
    "    return 1000*np.sum(y_true*y_pred) - 100*np.sum(y_pred)"
   ]
  },
  {
   "cell_type": "code",
   "execution_count": 33,
   "metadata": {},
   "outputs": [
    {
     "data": {
      "text/plain": [
       "17736.827393431162"
      ]
     },
     "execution_count": 33,
     "metadata": {},
     "output_type": "execute_result"
    }
   ],
   "source": [
    "zysk(y_test, prediction)"
   ]
  },
  {
   "cell_type": "code",
   "execution_count": 32,
   "metadata": {},
   "outputs": [],
   "source": [
    "import numpy as np"
   ]
  },
  {
   "cell_type": "code",
   "execution_count": null,
   "metadata": {},
   "outputs": [],
   "source": []
  }
 ],
 "metadata": {
  "kernelspec": {
   "display_name": "Python 3",
   "language": "python",
   "name": "python3"
  },
  "language_info": {
   "codemirror_mode": {
    "name": "ipython",
    "version": 3
   },
   "file_extension": ".py",
   "mimetype": "text/x-python",
   "name": "python",
   "nbconvert_exporter": "python",
   "pygments_lexer": "ipython3",
   "version": "3.7.1"
  }
 },
 "nbformat": 4,
 "nbformat_minor": 2
}
